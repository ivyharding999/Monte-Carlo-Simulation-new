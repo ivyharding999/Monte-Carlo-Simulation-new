{
 "cells": [
  {
   "cell_type": "code",
   "execution_count": 29,
   "metadata": {},
   "outputs": [
    {
     "data": {
      "image/png": "[encoded data removed]",
      "text/plain": [
       "<Figure size 432x288 with 1 Axes>"
      ]
     },
     "metadata": {},
     "output_type": "display_data"
    }
   ],
   "source": [
    "import numpy as np\n",
    "import scipy.stats as st \n",
    "import matplotlib.pyplot as plt \n",
    "s1=np.random.normal(14, 2, 500)\n",
    "s1_fit = np.linspace(s1.min(), s1.max())\n",
    "l1,=plt.plot(s1_fit, st.norm(14, 2).pdf(s1_fit), lw=2, c='r')\n",
    "\n",
    "s2=np.random.normal(23, 3, 500)\n",
    "s2_fit = np.linspace(s2.min(), s2.max())\n",
    "l2,=plt.plot(s2_fit, st.norm(23, 3).pdf(s2_fit), lw=2, c='b')\n",
    "\n",
    "\n",
    "s3=np.random.normal(22, 4, 500)\n",
    "s3_fit = np.linspace(s3.min(), s3.max())\n",
    "l3,=plt.plot(s3_fit, st.norm(22, 4).pdf(s3_fit), lw=2, c='y')\n",
    "\n",
    "plt.legend(handles = [ l1, l2, l3, ], labels = ['design','build','test'], loc = 'best')\n",
    "\n",
    "\n",
    "plt.show()"
   ]
  },
  {
   "cell_type": "code",
   "execution_count": 38,
   "metadata": {},
   "outputs": [],
   "source": [
    "s1_z = np.trunc(s1)\n",
    "s2_z = np.trunc(s2)\n",
    "s3_z = np.trunc(s3)\n",
    "s = s1_z + s2_z + s3_z"
   ]
  },
  {
   "cell_type": "code",
   "execution_count": 39,
   "metadata": {},
   "outputs": [],
   "source": [
    "import xlwt\n",
    "workbook = xlwt.Workbook() \n",
    "sheet = workbook.add_sheet(\"模拟数据\") \n",
    "for i in range(1,501):\n",
    "    sheet.write(i, 0, i)\n",
    "    sheet.write(i, 1, s1_z[i-1])\n",
    "    sheet.write(i, 2, s2_z[i-1])\n",
    "    sheet.write(i, 3, s3_z[i-1])\n",
    "    sheet.write(i, 4, s[i-1])\n",
    "    workbook.save('模拟数据的结果.xls')"
   ]
  },
  {
   "cell_type": "code",
   "execution_count": 40,
   "metadata": {},
   "outputs": [
    {
     "name": "stdout",
     "output_type": "stream",
     "text": [
      "75.0\n",
      "42.0\n"
     ]
    }
   ],
   "source": [
    "print(np.max(s))\n",
    "print(np.min(s))"
   ]
  },
  {
   "cell_type": "code",
   "execution_count": 43,
   "metadata": {},
   "outputs": [
    {
     "data": {
      "text/plain": [
       "0.004"
      ]
     },
     "execution_count": 43,
     "metadata": {},
     "output_type": "execute_result"
    }
   ],
   "source": [
    "np.sum(s==42)/500"
   ]
  },
  {
   "cell_type": "code",
   "execution_count": 45,
   "metadata": {},
   "outputs": [],
   "source": [
    "p = []\n",
    "for i in range(42,76):\n",
    "    middle = np.sum(s==i)/500\n",
    "    p.append(middle)\n",
    "p = np.array(p)"
   ]
  },
  {
   "cell_type": "code",
   "execution_count": 46,
   "metadata": {},
   "outputs": [
    {
     "data": {
      "text/plain": [
       "(34,)"
      ]
     },
     "execution_count": 46,
     "metadata": {},
     "output_type": "execute_result"
    }
   ],
   "source": [
    "p.shape"
   ]
  },
  {
   "cell_type": "code",
   "execution_count": 48,
   "metadata": {},
   "outputs": [],
   "source": [
    "import xlwt\n",
    "workbook = xlwt.Workbook() \n",
    "sheet = workbook.add_sheet(\"概率\") \n",
    "for i in range(34):\n",
    "    sheet.write(i, 0, p[i])\n",
    "   \n",
    "    workbook.save('概率.xls')"
   ]
  },
  {
   "cell_type": "code",
   "execution_count": 50,
   "metadata": {},
   "outputs": [
    {
     "data": {
      "text/plain": [
       "0.004"
      ]
     },
     "execution_count": 50,
     "metadata": {},
     "output_type": "execute_result"
    }
   ],
   "source": [
    "np.sum(p[0:2])"
   ]
  },
  {
   "cell_type": "code",
   "execution_count": 75,
   "metadata": {},
   "outputs": [],
   "source": [
    "p_l = []\n",
    "for i in range(1,35):\n",
    "    middle = np.sum(p[0:i])\n",
    "    p_l.append(middle)\n",
    "p_l = np.array(p_l)"
   ]
  },
  {
   "cell_type": "code",
   "execution_count": 76,
   "metadata": {},
   "outputs": [
    {
     "data": {
      "text/plain": [
       "array([0.004, 0.004, 0.004, 0.008, 0.014, 0.03 , 0.044, 0.064, 0.098,\n",
       "       0.138, 0.176, 0.234, 0.3  , 0.378, 0.44 , 0.49 , 0.574, 0.636,\n",
       "       0.688, 0.752, 0.812, 0.854, 0.912, 0.934, 0.958, 0.966, 0.976,\n",
       "       0.984, 0.988, 0.994, 0.996, 0.998, 0.998, 1.   ])"
      ]
     },
     "execution_count": 76,
     "metadata": {},
     "output_type": "execute_result"
    }
   ],
   "source": [
    "p_l"
   ]
  },
  {
   "cell_type": "code",
   "execution_count": 77,
   "metadata": {},
   "outputs": [
    {
     "data": {
      "text/plain": [
       "(34,)"
      ]
     },
     "execution_count": 77,
     "metadata": {},
     "output_type": "execute_result"
    }
   ],
   "source": [
    "p_l.shape"
   ]
  },
  {
   "cell_type": "code",
   "execution_count": 78,
   "metadata": {},
   "outputs": [],
   "source": [
    "workbook = xlwt.Workbook() \n",
    "sheet = workbook.add_sheet(\"累计概率\") \n",
    "for i in range(34):\n",
    "    sheet.write(i, 0, p_l[i])\n",
    "    workbook.save('累计概率.xls')"
   ]
  },
  {
   "cell_type": "code",
   "execution_count": 66,
   "metadata": {},
   "outputs": [
    {
     "data": {
      "text/plain": [
       "0.004"
      ]
     },
     "execution_count": 66,
     "metadata": {},
     "output_type": "execute_result"
    }
   ],
   "source": [
    "p[0]"
   ]
  },
  {
   "cell_type": "code",
   "execution_count": 72,
   "metadata": {},
   "outputs": [
    {
     "data": {
      "text/plain": [
       "0.004"
      ]
     },
     "execution_count": 72,
     "metadata": {},
     "output_type": "execute_result"
    }
   ],
   "source": [
    "np.sum(p[0:1])"
   ]
  },
  {
   "cell_type": "code",
   "execution_count": 73,
   "metadata": {},
   "outputs": [
    {
     "data": {
      "text/plain": [
       "0.998"
      ]
     },
     "execution_count": 73,
     "metadata": {},
     "output_type": "execute_result"
    }
   ],
   "source": [
    "np.sum(p[0:33])"
   ]
  },
  {
   "cell_type": "code",
   "execution_count": 74,
   "metadata": {},
   "outputs": [
    {
     "data": {
      "text/plain": [
       "1.0"
      ]
     },
     "execution_count": 74,
     "metadata": {},
     "output_type": "execute_result"
    }
   ],
   "source": [
    "np.sum(p[0:34])"
   ]
  },
  {
   "cell_type": "code",
   "execution_count": 70,
   "metadata": {},
   "outputs": [
    {
     "data": {
      "text/plain": [
       "0.004"
      ]
     },
     "execution_count": 70,
     "metadata": {},
     "output_type": "execute_result"
    }
   ],
   "source": [
    "np.sum(p[0:3])"
   ]
  },
  {
   "cell_type": "code",
   "execution_count": 71,
   "metadata": {},
   "outputs": [
    {
     "data": {
      "text/plain": [
       "0.008"
      ]
     },
     "execution_count": 71,
     "metadata": {},
     "output_type": "execute_result"
    }
   ],
   "source": [
    "np.sum(p[0:4])"
   ]
  },
  {
   "cell_type": "code",
   "execution_count": 63,
   "metadata": {},
   "outputs": [
    {
     "data": {
      "text/plain": [
       "1.0000000000000004"
      ]
     },
     "execution_count": 63,
     "metadata": {},
     "output_type": "execute_result"
    }
   ],
   "source": [
    "sum(p[0:34])"
   ]
  },
  {
   "cell_type": "markdown",
   "metadata": {},
   "source": [
    "## 应用于风险"
   ]
  },
  {
   "cell_type": "code",
   "execution_count": 84,
   "metadata": {},
   "outputs": [
    {
     "data": {
      "image/png": "[encoded data removed]",
      "text/plain": [
       "<Figure size 432x288 with 1 Axes>"
      ]
     },
     "metadata": {},
     "output_type": "display_data"
    }
   ],
   "source": [
    "import numpy as np\n",
    "import scipy.stats as st \n",
    "import matplotlib.pyplot as plt \n",
    "s1=np.random.normal(2, 2, 500)\n",
    "s1_fit = np.linspace(s1.min(), s1.max())\n",
    "l1,=plt.plot(s1_fit, st.norm(2, 2).pdf(s1_fit), lw=2)\n",
    "\n",
    "s2=np.random.normal(5, 3, 500)\n",
    "s2_fit = np.linspace(s2.min(), s2.max())\n",
    "l2,=plt.plot(s2_fit, st.norm(5, 3).pdf(s2_fit), lw=2)\n",
    "\n",
    "\n",
    "s3=np.random.normal(1, 1, 500)\n",
    "s3_fit = np.linspace(s3.min(), s3.max())\n",
    "l3,=plt.plot(s3_fit, st.norm(1, 1).pdf(s3_fit), lw=2)\n",
    "\n",
    "s4=np.random.normal(2, 4, 500)\n",
    "s4_fit = np.linspace(s4.min(), s4.max())\n",
    "l4,=plt.plot(s4_fit, st.norm(2, 4).pdf(s4_fit), lw=2)\n",
    "\n",
    "\n",
    "plt.legend(handles = [ l1, l2, l3, l4,], labels = ['risk1','risk2','risk3','risk4'], loc = 'best')\n",
    "\n",
    "\n",
    "plt.show()"
   ]
  },
  {
   "cell_type": "code",
   "execution_count": 85,
   "metadata": {},
   "outputs": [],
   "source": [
    "s1_z = np.trunc(s1)\n",
    "s2_z = np.trunc(s2)\n",
    "s3_z = np.trunc(s3)\n",
    "s4_z = np.trunc(s4)\n",
    "s = s1_z + s2_z + s3_z+ s4_z"
   ]
  },
  {
   "cell_type": "code",
   "execution_count": 86,
   "metadata": {},
   "outputs": [],
   "source": [
    "import xlwt\n",
    "workbook = xlwt.Workbook() \n",
    "sheet = workbook.add_sheet(\"风险模拟数据\") \n",
    "for i in range(1,501):\n",
    "    sheet.write(i, 0, i)\n",
    "    sheet.write(i, 1, s1_z[i-1])\n",
    "    sheet.write(i, 2, s2_z[i-1])\n",
    "    sheet.write(i, 3, s3_z[i-1])\n",
    "    sheet.write(i, 4, s4_z[i-1])\n",
    "    sheet.write(i, 5, s[i-1])\n",
    "    workbook.save('风险模拟数据的结果.xls')"
   ]
  },
  {
   "cell_type": "code",
   "execution_count": 87,
   "metadata": {},
   "outputs": [
    {
     "name": "stdout",
     "output_type": "stream",
     "text": [
      "25.0\n",
      "-4.0\n"
     ]
    }
   ],
   "source": [
    "print(np.max(s))\n",
    "print(np.min(s))"
   ]
  },
  {
   "cell_type": "code",
   "execution_count": 103,
   "metadata": {},
   "outputs": [],
   "source": [
    "list1 = np.linspace(s.min(), s.max(),30,dtype=int)"
   ]
  },
  {
   "cell_type": "code",
   "execution_count": 104,
   "metadata": {},
   "outputs": [
    {
     "data": {
      "text/plain": [
       "array([-4, -3, -2, -1,  0,  1,  2,  3,  4,  5,  6,  7,  8,  9, 10, 11, 12,\n",
       "       13, 14, 15, 16, 17, 18, 19, 20, 21, 22, 23, 24, 25])"
      ]
     },
     "execution_count": 104,
     "metadata": {},
     "output_type": "execute_result"
    }
   ],
   "source": [
    "list1"
   ]
  },
  {
   "cell_type": "code",
   "execution_count": 105,
   "metadata": {},
   "outputs": [
    {
     "data": {
      "text/plain": [
       "30"
      ]
     },
     "execution_count": 105,
     "metadata": {},
     "output_type": "execute_result"
    }
   ],
   "source": [
    "len(list1)"
   ]
  },
  {
   "cell_type": "code",
   "execution_count": 106,
   "metadata": {},
   "outputs": [],
   "source": [
    "p = []\n",
    "for i in list1:\n",
    "#     print(i)\n",
    "    middle = np.sum(s==i)/500\n",
    "    p.append(middle)\n",
    "p = np.array(p)"
   ]
  },
  {
   "cell_type": "code",
   "execution_count": 108,
   "metadata": {},
   "outputs": [],
   "source": [
    "import xlwt\n",
    "workbook = xlwt.Workbook() \n",
    "sheet = workbook.add_sheet(\"risk概率\") \n",
    "for i in range(30):\n",
    "    sheet.write(i, 0, p[i])\n",
    "   \n",
    "    workbook.save('risk概率.xls')"
   ]
  },
  {
   "cell_type": "code",
   "execution_count": 109,
   "metadata": {},
   "outputs": [],
   "source": [
    "p_l = []\n",
    "for i in range(1,31):\n",
    "    middle = np.sum(p[0:i])\n",
    "    p_l.append(middle)\n",
    "p_l = np.array(p_l)"
   ]
  },
  {
   "cell_type": "code",
   "execution_count": 110,
   "metadata": {},
   "outputs": [
    {
     "data": {
      "text/plain": [
       "array([0.002, 0.008, 0.012, 0.028, 0.048, 0.072, 0.1  , 0.156, 0.206,\n",
       "       0.294, 0.374, 0.444, 0.508, 0.584, 0.656, 0.708, 0.772, 0.84 ,\n",
       "       0.888, 0.918, 0.948, 0.96 , 0.966, 0.974, 0.984, 0.994, 0.994,\n",
       "       0.998, 0.998, 1.   ])"
      ]
     },
     "execution_count": 110,
     "metadata": {},
     "output_type": "execute_result"
    }
   ],
   "source": [
    "p_l"
   ]
  },
  {
   "cell_type": "code",
   "execution_count": 111,
   "metadata": {},
   "outputs": [],
   "source": [
    "workbook = xlwt.Workbook() \n",
    "sheet = workbook.add_sheet(\"risk累计概率\") \n",
    "for i in range(30):\n",
    "    sheet.write(i, 0, p_l[i])\n",
    "    workbook.save('risk累计概率.xls')"
   ]
  },
  {
   "cell_type": "code",
   "execution_count": null,
   "metadata": {},
   "outputs": [],
   "source": []
  }
 ],
 "metadata": {
  "kernelspec": {
   "display_name": "Python 3",
   "language": "python",
   "name": "python3"
  },
  "language_info": {
   "codemirror_mode": {
    "name": "ipython",
    "version": 3
   },
   "file_extension": ".py",
   "mimetype": "text/x-python",
   "name": "python",
   "nbconvert_exporter": "python",
   "pygments_lexer": "ipython3",
   "version": "3.5.4"
  }
 },
 "nbformat": 4,
 "nbformat_minor": 2
}
